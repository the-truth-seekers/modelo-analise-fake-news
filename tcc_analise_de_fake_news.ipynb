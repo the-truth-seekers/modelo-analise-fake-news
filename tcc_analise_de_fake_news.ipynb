{
  "cells": [
    {
      "cell_type": "code",
      "execution_count": null,
      "metadata": {
        "colab": {
          "base_uri": "https://localhost:8080/"
        },
        "id": "fjeKmW21qUuN",
        "outputId": "cc20d906-1f2c-441f-b337-86eec4000967"
      },
      "outputs": [
        {
          "name": "stdout",
          "output_type": "stream",
          "text": [
            "Drive already mounted at /content/drive; to attempt to forcibly remount, call drive.mount(\"/content/drive\", force_remount=True).\n"
          ]
        }
      ],
      "source": [
        "from google.colab import drive\n",
        "drive.mount('/content/drive')"
      ]
    },
    {
      "cell_type": "code",
      "execution_count": null,
      "metadata": {
        "id": "46grsin5vKsU"
      },
      "outputs": [],
      "source": [
        "import matplotlib.pyplot as plt\n",
        "from time import time\n",
        "import pandas as pd\n",
        "import numpy as np\n",
        "\n",
        "from sklearn.model_selection import train_test_split\n",
        "from sklearn.model_selection import GridSearchCV, RandomizedSearchCV\n",
        "\n",
        "from sklearn.feature_extraction.text import CountVectorizer\n",
        "from sklearn.feature_extraction.text import TfidfTransformer\n",
        "\n",
        "from sklearn.tree import DecisionTreeClassifier\n",
        "from sklearn.ensemble import RandomForestClassifier\n",
        "from sklearn.neighbors import KNeighborsClassifier\n",
        "\n",
        "from sklearn.metrics import accuracy_score, classification_report\n",
        "from sklearn.metrics import classification_report, ConfusionMatrixDisplay"
      ]
    },
    {
      "cell_type": "code",
      "execution_count": null,
      "metadata": {
        "id": "7oBKsL4QQhIM"
      },
      "outputs": [],
      "source": [
        "df = pd.read_csv('/content/drive/MyDrive/tcc/pre-processed.csv')\n",
        "\n",
        "# Transformando todas as letras em minúsculas\n",
        "df['preprocessed_news'] = df['preprocessed_news'].str.lower()"
      ]
    },
    {
      "cell_type": "markdown",
      "metadata": {
        "id": "FCF4fRyhPl-2"
      },
      "source": [
        "# Pré Processamento"
      ]
    },
    {
      "cell_type": "code",
      "execution_count": null,
      "metadata": {
        "id": "Pf43wUWOvwdQ"
      },
      "outputs": [],
      "source": [
        "# Cria um vetor de palavras para cada notícia\n",
        "count_vect = CountVectorizer()\n",
        "X_counts = count_vect.fit_transform(df['preprocessed_news'])\n",
        "\n",
        "# Aplica a técnica tf-idf para calcular a importância de cada palavra\n",
        "tfidf_transformer = TfidfTransformer()\n",
        "X_tfidf = tfidf_transformer.fit_transform(X_counts)\n",
        "\n",
        "X_train, X_test, y_train, y_test = train_test_split(X_tfidf, df['label'], test_size=0.2, random_state=42)\n",
        "\n",
        "class_names = ['Falso', 'Verdadeiro']"
      ]
    },
    {
      "cell_type": "markdown",
      "metadata": {
        "id": "DbKrlG5OQWn3"
      },
      "source": [
        "# Árvore de decisão"
      ]
    },
    {
      "cell_type": "code",
      "execution_count": null,
      "metadata": {
        "colab": {
          "base_uri": "https://localhost:8080/",
          "height": 747
        },
        "id": "aBrQU6D4Qa18",
        "outputId": "108c9cbb-5b91-425e-aabb-afce9dfcaa9e"
      },
      "outputs": [
        {
          "name": "stdout",
          "output_type": "stream",
          "text": [
            "Treinamento do modelo em 15.740s\n",
            "Predição do modelo em 0.045s\n",
            "\n",
            "Precisão do modelo de Árvore de Decisão: 88.54167%\n",
            "\n",
            "Relatório de Classificação:\n",
            "              precision    recall  f1-score   support\n",
            "\n",
            "       Falso       0.88      0.89      0.89       718\n",
            "  Verdadeiro       0.89      0.89      0.89       722\n",
            "\n",
            "    accuracy                           0.89      1440\n",
            "   macro avg       0.89      0.89      0.89      1440\n",
            "weighted avg       0.89      0.89      0.89      1440\n",
            "\n"
          ]
        },
        {
          "data": {
            "image/png": "[encoded data removed]",
            "text/plain": [
              "<Figure size 640x480 with 2 Axes>"
            ]
          },
          "metadata": {},
          "output_type": "display_data"
        }
      ],
      "source": [
        "# Modelo de Árvore de Decisão\n",
        "tree_clf = DecisionTreeClassifier(random_state=42)\n",
        "\n",
        "t0 = time()\n",
        "tree_clf.fit(X_train, y_train)\n",
        "t1 = time()\n",
        "\n",
        "t2 = time()\n",
        "y_pred_tree = tree_clf.predict(X_test)\n",
        "t3 = time()\n",
        "\n",
        "accuracy_tree = accuracy_score(y_test, y_pred_tree)\n",
        "\n",
        "print(\"Treinamento do modelo em %0.3fs\" % (t1 - t0))\n",
        "print(\"Predição do modelo em %0.3fs\" % (t3 - t2))\n",
        "print(f\"\\nPrecisão do modelo de Árvore de Decisão: {np.round(accuracy_tree*100, 5)}%\\n\")\n",
        "\n",
        "class_report_tree = classification_report(y_test, y_pred_tree, target_names=class_names)\n",
        "print(f\"Relatório de Classificação:\\n{class_report_tree}\")\n",
        "\n",
        "ConfusionMatrixDisplay.from_estimator(\n",
        "    tree_clf, X_test, y_test, display_labels= class_names, xticks_rotation=\"horizontal\", cmap=\"Blues\"\n",
        ")\n",
        "plt.tight_layout()\n",
        "plt.show()"
      ]
    },
    {
      "cell_type": "markdown",
      "metadata": {
        "id": "kUPzU_goPgLk"
      },
      "source": [
        "# Random Forest"
      ]
    },
    {
      "cell_type": "code",
      "execution_count": null,
      "metadata": {
        "colab": {
          "base_uri": "https://localhost:8080/",
          "height": 747
        },
        "id": "HvlfodUyv33l",
        "outputId": "c2335408-1919-42c0-b925-a390efd65e2e"
      },
      "outputs": [
        {
          "name": "stdout",
          "output_type": "stream",
          "text": [
            "Treinamento do modelo em 18.250s\n",
            "Predição do modelo em 0.589s\n",
            "\n",
            "Precisão do modelo de Árvore de Decisão: 94.79167%\n",
            "\n",
            "Relatório de Classificação:\n",
            "              precision    recall  f1-score   support\n",
            "\n",
            "       Falso       0.93      0.97      0.95       718\n",
            "  Verdadeiro       0.97      0.93      0.95       722\n",
            "\n",
            "    accuracy                           0.95      1440\n",
            "   macro avg       0.95      0.95      0.95      1440\n",
            "weighted avg       0.95      0.95      0.95      1440\n",
            "\n"
          ]
        },
        {
          "data": {
            "image/png": "[encoded data removed]",
            "text/plain": [
              "<Figure size 640x480 with 2 Axes>"
            ]
          },
          "metadata": {},
          "output_type": "display_data"
        }
      ],
      "source": [
        "# Modelo Random Forest\n",
        "rnd_clf = RandomForestClassifier(random_state=42)\n",
        "\n",
        "t0 = time()\n",
        "rnd_clf.fit(X_train, y_train)\n",
        "t1 = time()\n",
        "\n",
        "t2 = time()\n",
        "y_pred_rnd = rnd_clf.predict(X_test)\n",
        "t3 = time()\n",
        "\n",
        "accuracy_rnd = accuracy_score(y_test, y_pred_rnd)\n",
        "\n",
        "print(\"Treinamento do modelo em %0.3fs\" % (t1 - t0))\n",
        "print(\"Predição do modelo em %0.3fs\" % (t3 - t2))\n",
        "print(f\"\\nPrecisão do modelo de Árvore de Decisão: {np.round(accuracy_rnd*100, 5)}%\\n\")\n",
        "\n",
        "class_report_rnd = classification_report(y_test, y_pred_rnd, target_names=class_names)\n",
        "print(f\"Relatório de Classificação:\\n{class_report_rnd}\")\n",
        "\n",
        "ConfusionMatrixDisplay.from_estimator(\n",
        "    rnd_clf, X_test, y_test, display_labels=class_names, xticks_rotation=\"horizontal\", cmap=\"Blues\"\n",
        ")\n",
        "plt.tight_layout()\n",
        "plt.show()"
      ]
    },
    {
      "cell_type": "markdown",
      "metadata": {
        "id": "6zw8m9QFgFy0"
      },
      "source": [
        "# KNeighbors"
      ]
    },
    {
      "cell_type": "code",
      "execution_count": null,
      "metadata": {
        "colab": {
          "base_uri": "https://localhost:8080/"
        },
        "id": "z3eoKe-qZa0l",
        "outputId": "22eaa990-a0c8-4924-96b9-003a6fd11a21"
      },
      "outputs": [
        {
          "name": "stdout",
          "output_type": "stream",
          "text": [
            "Treinamento do modelo em 0.011s\n",
            "Predição do modelo em 455.394s\n",
            "\n",
            "Precisão do modelo de Árvore de Decisão: 66.18056%\n",
            "\n",
            "Relatório de Classificação:\n",
            "              precision    recall  f1-score   support\n",
            "\n",
            "       Falso       0.91      0.36      0.51       718\n",
            "  Verdadeiro       0.60      0.97      0.74       722\n",
            "\n",
            "    accuracy                           0.66      1440\n",
            "   macro avg       0.76      0.66      0.63      1440\n",
            "weighted avg       0.76      0.66      0.63      1440\n",
            "\n"
          ]
        }
      ],
      "source": [
        "# Modelo KNeighbors\n",
        "knn_clf = KNeighborsClassifier(n_neighbors=42, n_jobs=-1)\n",
        "\n",
        "t0 = time()\n",
        "knn_clf.fit(X_train, y_train)\n",
        "t1 = time()\n",
        "\n",
        "t2 = time()\n",
        "y_pred_knn = knn_clf.predict(X_test)\n",
        "t3 = time()\n",
        "\n",
        "accuracy_knn = accuracy_score(y_test, y_pred_knn)\n",
        "\n",
        "print(\"Treinamento do modelo em %0.3fs\" % (t1 - t0))\n",
        "print(\"Predição do modelo em %0.3fs\" % (t3 - t2))\n",
        "print(f\"\\nPrecisão do modelo de Árvore de Decisão: {np.round(accuracy_knn*100, 5)}%\\n\")\n",
        "\n",
        "class_report_knn = classification_report(y_test, y_pred_knn, target_names=class_names)\n",
        "print(f\"Relatório de Classificação:\\n{class_report_knn}\")\n",
        "\n",
        "ConfusionMatrixDisplay.from_estimator(\n",
        "    knn_clf, X_test, y_test, display_labels=class_names, xticks_rotation=\"horizontal\", cmap=\"Blues\"\n",
        ")\n",
        "plt.tight_layout()\n",
        "plt.show()"
      ]
    },
    {
      "cell_type": "markdown",
      "metadata": {
        "id": "IvWlohqsgKlC"
      },
      "source": [
        "# Busca por Hiperparâmetros"
      ]
    },
    {
      "cell_type": "markdown",
      "metadata": {
        "id": "cVVgIr4_goDs"
      },
      "source": [
        "# Árvore de Decisão\n",
        "Randomized Search"
      ]
    },
    {
      "cell_type": "code",
      "execution_count": null,
      "metadata": {
        "colab": {
          "base_uri": "https://localhost:8080/"
        },
        "id": "csra5sbFjFGE",
        "outputId": "d58c5b91-9796-4d8f-c503-cf2361405e12"
      },
      "outputs": [
        {
          "name": "stdout",
          "output_type": "stream",
          "text": [
            "\n",
            "Treinamento do RandomizedSearch em 148.143s\n",
            "\n",
            "\n",
            "Melhores parâmetros para o modelo: {'min_samples_split': 6, 'min_samples_leaf': 7, 'max_depth': 10, 'criterion': 'gini'} \n",
            "Melhor score: 0.9069444444444444\n"
          ]
        }
      ],
      "source": [
        "# Parâmetros para Randomized Search\n",
        "param_dist_tree = {\n",
        "    'criterion': ['gini', 'entropy'],\n",
        "    'max_depth': range(10, 20, 2),\n",
        "    'min_samples_split': range(2, 10),\n",
        "    'min_samples_leaf': range(1, 10)\n",
        "}\n",
        "\n",
        "# Execução do Randomized Search para o modelo de árvore de decisão\n",
        "random_search_tree = RandomizedSearchCV(tree_clf, param_dist_tree, cv=5, n_iter=10, n_jobs=-1)\n",
        "t0 = time()\n",
        "random_search_tree.fit(X_train, y_train)\n",
        "t1 = time()\n",
        "\n",
        "best_params_random = random_search_tree.best_params_\n",
        "best_score_random = random_search_tree.best_score_\n",
        "\n",
        "print(\"\\nTreinamento do RandomizedSearch em %0.3fs\\n\" % (t1 - t0))\n",
        "print(f\"\\nMelhores parâmetros para o modelo: {best_params_random} \\nMelhor score: {best_score_random}\")"
      ]
    },
    {
      "cell_type": "markdown",
      "metadata": {
        "id": "HiWJWtSdzkFl"
      },
      "source": [
        "# Random Forest\n",
        "Randomized Search"
      ]
    },
    {
      "cell_type": "code",
      "execution_count": null,
      "metadata": {
        "colab": {
          "base_uri": "https://localhost:8080/"
        },
        "id": "TXp99appzp9W",
        "outputId": "44e90aba-2c7a-491d-8ccb-4825e4bb6ea8"
      },
      "outputs": [
        {
          "name": "stdout",
          "output_type": "stream",
          "text": [
            "\n",
            "Treinamento do RandomizedSearch em 169.167s\n",
            "\n",
            "\n",
            "Melhores parâmetros para o modelo: {'min_samples_split': 4, 'min_samples_leaf': 6, 'max_depth': 18, 'criterion': 'gini'} \n",
            "Melhor score: 0.9489583333333333\n"
          ]
        }
      ],
      "source": [
        "# Parâmetros para Randomized Search\n",
        "param_dist_rnd = {\n",
        "    'criterion': ['gini', 'entropy'],\n",
        "    'max_depth': range(10, 20, 2),\n",
        "    'min_samples_split': range(2, 10),\n",
        "    'min_samples_leaf': range(1, 10)\n",
        "}\n",
        "\n",
        "# Execução do Randomized Search para o modelo de árvore de decisão\n",
        "random_search_rnd = RandomizedSearchCV(rnd_clf, param_dist_rnd, cv=5, n_iter=10, n_jobs=-1)\n",
        "\n",
        "t0 = time()\n",
        "random_search_rnd.fit(X_train, y_train)\n",
        "t1 = time()\n",
        "\n",
        "best_params_random = random_search_rnd.best_params_\n",
        "best_score_random = random_search_rnd.best_score_\n",
        "\n",
        "print(\"\\nTreinamento do RandomizedSearch em %0.3fs\\n\" % (t1 - t0))\n",
        "print(f\"\\nMelhores parâmetros para o modelo: {best_params_random} \\nMelhor score: {best_score_random}\")"
      ]
    },
    {
      "cell_type": "code",
      "execution_count": null,
      "metadata": {},
      "outputs": [],
      "source": [
        "import joblib\n",
        "joblib.dump(rnd_clf, 'random_forest_model_news.pkl')"
      ]
    }
  ],
  "metadata": {
    "accelerator": "TPU",
    "colab": {
      "provenance": []
    },
    "kernelspec": {
      "display_name": "Python 3",
      "name": "python3"
    },
    "language_info": {
      "name": "python"
    }
  },
  "nbformat": 4,
  "nbformat_minor": 0
}
