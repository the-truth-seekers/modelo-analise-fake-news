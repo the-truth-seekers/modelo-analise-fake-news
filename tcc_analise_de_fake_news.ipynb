{
  "nbformat": 4,
  "nbformat_minor": 0,
  "metadata": {
    "colab": {
      "provenance": []
    },
    "kernelspec": {
      "name": "python3",
      "display_name": "Python 3"
    },
    "language_info": {
      "name": "python"
    }
  },
  "cells": [
    {
      "cell_type": "code",
      "source": [
        "from google.colab import drive\n",
        "drive.mount('/content/drive')"
      ],
      "metadata": {
        "colab": {
          "base_uri": "https://localhost:8080/"
        },
        "id": "fjeKmW21qUuN",
        "outputId": "1e458d76-ee6e-4c4e-9ad3-d77e550ea4b0"
      },
      "execution_count": 23,
      "outputs": [
        {
          "output_type": "stream",
          "name": "stdout",
          "text": [
            "Drive already mounted at /content/drive; to attempt to forcibly remount, call drive.mount(\"/content/drive\", force_remount=True).\n"
          ]
        }
      ]
    },
    {
      "cell_type": "code",
      "source": [
        "import pandas as pd\n",
        "from sklearn.model_selection import train_test_split\n",
        "from sklearn.feature_extraction.text import CountVectorizer\n",
        "from sklearn.feature_extraction.text import TfidfTransformer"
      ],
      "metadata": {
        "id": "46grsin5vKsU"
      },
      "execution_count": 24,
      "outputs": []
    },
    {
      "cell_type": "code",
      "source": [
        "df = pd.read_csv('/content/drive/MyDrive/tcc/pre-processed.csv')\n",
        "\n",
        "# Transformando todas as letras em minúsculas\n",
        "df['preprocessed_news'] = df['preprocessed_news'].str.lower()"
      ],
      "metadata": {
        "id": "7oBKsL4QQhIM"
      },
      "execution_count": 25,
      "outputs": []
    },
    {
      "cell_type": "code",
      "source": [
        "# Cria um vetor de palavras para cada notícia\n",
        "count_vect = CountVectorizer()\n",
        "X_counts = count_vect.fit_transform(df['preprocessed_news'])\n",
        "\n",
        "# Aplica a técnica tf-idf para calcular a importância de cada palavra\n",
        "tfidf_transformer = TfidfTransformer()\n",
        "X_tfidf = tfidf_transformer.fit_transform(X_counts)\n",
        "\n",
        "X_train, X_test, y_train, y_test = train_test_split(X_tfidf, df['label'], test_size=0.2, random_state=42)"
      ],
      "metadata": {
        "id": "Pf43wUWOvwdQ"
      },
      "execution_count": 26,
      "outputs": []
    },
    {
      "cell_type": "code",
      "source": [
        "from sklearn.ensemble import RandomForestClassifier\n",
        "\n",
        "rfc = RandomForestClassifier(n_estimators=200, random_state=42)\n",
        "rfc.fit(X_train, y_train)\n",
        "rfc.n_classes_"
      ],
      "metadata": {
        "colab": {
          "base_uri": "https://localhost:8080/"
        },
        "id": "HvlfodUyv33l",
        "outputId": "405ca982-4c42-4b68-f242-d01cc14bbc30"
      },
      "execution_count": 27,
      "outputs": [
        {
          "output_type": "execute_result",
          "data": {
            "text/plain": [
              "2"
            ]
          },
          "metadata": {},
          "execution_count": 27
        }
      ]
    },
    {
      "cell_type": "code",
      "source": [
        "y_pred = rfc.predict(X_test)\n",
        "y_pred"
      ],
      "metadata": {
        "id": "LPSjoViGv6Bd",
        "colab": {
          "base_uri": "https://localhost:8080/"
        },
        "outputId": "5e0b25a1-7bc6-403e-8de8-1e5ce27df192"
      },
      "execution_count": 28,
      "outputs": [
        {
          "output_type": "execute_result",
          "data": {
            "text/plain": [
              "array(['fake', 'fake', 'true', ..., 'true', 'fake', 'fake'], dtype=object)"
            ]
          },
          "metadata": {},
          "execution_count": 28
        }
      ]
    },
    {
      "cell_type": "code",
      "source": [
        "from sklearn.metrics import accuracy_score, classification_report\n",
        "\n",
        "accuracy = accuracy_score(y_test, y_pred)\n",
        "class_report = classification_report(y_test, y_pred)\n",
        "\n",
        "print('Acurácia: {:.3f}%'.format(accuracy * 100))\n",
        "print('\\nRelatório de Classificação:\\n', class_report)"
      ],
      "metadata": {
        "colab": {
          "base_uri": "https://localhost:8080/"
        },
        "id": "5fUITn2xv7fp",
        "outputId": "48d09a69-80e6-4d11-c5d8-c75ce3159662"
      },
      "execution_count": 34,
      "outputs": [
        {
          "output_type": "stream",
          "name": "stdout",
          "text": [
            "Acurácia: 95.139%\n",
            "\n",
            "Relatório de Classificação:\n",
            "               precision    recall  f1-score   support\n",
            "\n",
            "        fake       0.93      0.97      0.95       718\n",
            "        true       0.97      0.93      0.95       722\n",
            "\n",
            "    accuracy                           0.95      1440\n",
            "   macro avg       0.95      0.95      0.95      1440\n",
            "weighted avg       0.95      0.95      0.95      1440\n",
            "\n"
          ]
        }
      ]
    },
    {
      "cell_type": "code",
      "source": [
        "from sklearn.metrics import classification_report, ConfusionMatrixDisplay\n",
        "import matplotlib.pyplot as plt\n",
        "\n",
        "class_names = ['Falso', 'Verdadeiro']\n",
        "\n",
        "ConfusionMatrixDisplay.from_estimator(\n",
        "    rfc, X_test, y_test, display_labels=class_names, xticks_rotation=\"horizontal\"\n",
        ")\n",
        "plt.tight_layout()\n",
        "plt.show()"
      ],
      "metadata": {
        "colab": {
          "base_uri": "https://localhost:8080/",
          "height": 487
        },
        "id": "VL3imbjVf4MT",
        "outputId": "5caa267e-1306-4914-f24d-e75bc6976d0f"
      },
      "execution_count": 33,
      "outputs": [
        {
          "output_type": "display_data",
          "data": {
            "text/plain": [
              "<Figure size 640x480 with 2 Axes>"
            ],
            "image/png": "[encoded data removed]"
          },
          "metadata": {}
        }
      ]
    }
  ]
}